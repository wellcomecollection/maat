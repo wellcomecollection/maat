{
 "cells": [
  {
   "cell_type": "markdown",
   "id": "50013952-897a-40df-b54c-d832b946594c",
   "metadata": {},
   "source": [
    "# Time travel\n",
    "Using the rank cluster, we can run our collection of real search terms against the new mapping with the new query structure. We can then analyse the results according to the same set of metrics as we used for the data which was collected in real time. In other words, we can look at how search _would have_ performed if we had made these changes earlier. It's a time-travelling A/B test."
   ]
  },
  {
   "cell_type": "code",
   "execution_count": null,
   "id": "bcefa070-f960-49b6-bd98-8e865493c6d1",
   "metadata": {},
   "outputs": [],
   "source": []
  }
 ],
 "metadata": {
  "kernelspec": {
   "display_name": "Python 3",
   "language": "python",
   "name": "python3"
  },
  "language_info": {
   "codemirror_mode": {
    "name": "ipython",
    "version": 3
   },
   "file_extension": ".py",
   "mimetype": "text/x-python",
   "name": "python",
   "nbconvert_exporter": "python",
   "pygments_lexer": "ipython3",
   "version": "3.9.2"
  }
 },
 "nbformat": 4,
 "nbformat_minor": 5
}
