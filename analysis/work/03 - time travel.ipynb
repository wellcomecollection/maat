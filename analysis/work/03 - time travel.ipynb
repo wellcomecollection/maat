{
 "cells": [
  {
   "cell_type": "markdown",
   "id": "50013952-897a-40df-b54c-d832b946594c",
   "metadata": {},
   "source": [
    "# Time travel\n",
    "Using the rank cluster, we can run our collection of real search terms against the new mapping with the new query structure. We can then analyse the results according to the same set of metrics as we used for the data which was collected in real time. In other words, we can look at how search _would have_ performed if we had made these changes earlier. It's a time-travelling A/B test.\n",
    "\n",
    "## Getting queries\n",
    "Because the queries are written and tested in typescript, we need to export a json version of them before they can be used in these python notebooks. Running `yarn getQueryJSON <name_of_query_to_test>` will generate a `.json` version of the query alongside the `.ts` original.\n",
    "\n",
    "We can then import the query as follows:"
   ]
  },
  {
   "cell_type": "code",
   "execution_count": null,
   "id": "bcefa070-f960-49b6-bd98-8e865493c6d1",
   "metadata": {},
   "outputs": [],
   "source": [
    "import json"
   ]
  },
  {
   "cell_type": "code",
   "execution_count": null,
   "id": "0a32758d-08f3-4fd5-86cf-7e3659704852",
   "metadata": {},
   "outputs": [],
   "source": [
    "json.loads(\"data/queries/works-with-search-fields.json\")"
   ]
  }
 ],
 "metadata": {
  "kernelspec": {
   "display_name": "Python 3",
   "language": "python",
   "name": "python3"
  },
  "language_info": {
   "codemirror_mode": {
    "name": "ipython",
    "version": 3
   },
   "file_extension": ".py",
   "mimetype": "text/x-python",
   "name": "python",
   "nbconvert_exporter": "python",
   "pygments_lexer": "ipython3",
   "version": "3.9.2"
  }
 },
 "nbformat": 4,
 "nbformat_minor": 5
}
