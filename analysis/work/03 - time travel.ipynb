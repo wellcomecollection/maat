{
 "cells": [
  {
   "cell_type": "markdown",
   "id": "e9a385f8-2c89-48f3-94e5-dafb1e459e91",
   "metadata": {},
   "source": [
    "# Time travel\n",
    "Using the rank cluster, we can run our collection of real search terms against the new mapping with the new query structure. We can then analyse the results according to the same set of metrics as we used for the data which was collected in real time. In other words, we can look at how search _would have_ performed if we had made these changes earlier. It's a time-travelling A/B test."
   ]
  },
  {
   "cell_type": "code",
   "execution_count": null,
   "id": "f3f11655-b6ee-4290-b909-1a0709b80f97",
   "metadata": {},
   "outputs": [],
   "source": [
    "import os\n",
    "import json\n",
    "from elasticsearch import Elasticsearch"
   ]
  },
  {
   "cell_type": "markdown",
   "id": "d22dfd16-bb6c-4e08-aebe-f3d282d98aec",
   "metadata": {},
   "source": [
    "## Getting queries\n",
    "Because the queries are written and tested in typescript, we need to export a json version of them before they can be used in these python notebooks. Running `yarn getQueryJSON <query_name>` will generate a `.json` version of the query alongside the `.ts` original.\n",
    "\n",
    "We can then import the query as follows:"
   ]
  },
  {
   "cell_type": "code",
   "execution_count": null,
   "id": "d5cf853e-f7ff-437b-9dd1-18ca90495393",
   "metadata": {},
   "outputs": [],
   "source": [
    "query_name = \"works-with-search-fields\""
   ]
  },
  {
   "cell_type": "code",
   "execution_count": null,
   "id": "b2909c27-30f1-479e-acaa-8e5e24da3371",
   "metadata": {},
   "outputs": [],
   "source": [
    "with open(f\"data/queries/{query_name}.json\", \"r\") as f:\n",
    "    query = json.load(f)\n",
    "\n",
    "query"
   ]
  },
  {
   "cell_type": "markdown",
   "id": "587af83c-9f6c-4d69-8f57-02aec63d4d82",
   "metadata": {},
   "source": [
    "we can now open a connection to our rank cluster and run our query against it"
   ]
  },
  {
   "cell_type": "code",
   "execution_count": null,
   "id": "7a2c8071-effc-4e18-a7e2-36a3b4ee3cb7",
   "metadata": {},
   "outputs": [],
   "source": [
    "secret = lambda name: os.environ[name][1:-1]\n",
    "\n",
    "es = Elasticsearch(\n",
    "    cloud_id=secret(\"ES_RANK_CLOUD_ID\"),\n",
    "    http_auth=(\n",
    "        secret(\"ES_RANK_USER\"), \n",
    "        secret(\"ES_RANK_PASSWORD\")\n",
    "    ),\n",
    ")\n",
    "\n",
    "es.indices.exists(index=query_name)"
   ]
  },
  {
   "cell_type": "code",
   "execution_count": null,
   "id": "94bbccb3-2128-4e0b-9749-b8be6595d1bf",
   "metadata": {},
   "outputs": [],
   "source": []
  },
  {
   "cell_type": "code",
   "execution_count": null,
   "id": "03830c8b-b852-42e4-bb88-4514c396f6e9",
   "metadata": {},
   "outputs": [],
   "source": [
    "def format_query(search_term): \n",
    "    return {\"query\": json.loads(json.dumps(query).replace(\"{{query}}\", search_term))}"
   ]
  },
  {
   "cell_type": "code",
   "execution_count": null,
   "id": "3cd668a1-3542-4106-83d6-192e74f628b8",
   "metadata": {},
   "outputs": [],
   "source": [
    "es.search(\n",
    "    index=query_name,\n",
    "    body=format_query(\"skeleton\")\n",
    ")"
   ]
  },
  {
   "cell_type": "code",
   "execution_count": null,
   "id": "f0269dad-d5a6-413f-bd86-aa006402d784",
   "metadata": {},
   "outputs": [],
   "source": []
  },
  {
   "cell_type": "code",
   "execution_count": null,
   "id": "9bc0e5b5-293c-48bf-933f-4010a07169e6",
   "metadata": {},
   "outputs": [],
   "source": []
  }
 ],
 "metadata": {
  "kernelspec": {
   "display_name": "Python 3",
   "language": "python",
   "name": "python3"
  },
  "language_info": {
   "codemirror_mode": {
    "name": "ipython",
    "version": 3
   },
   "file_extension": ".py",
   "mimetype": "text/x-python",
   "name": "python",
   "nbconvert_exporter": "python",
   "pygments_lexer": "ipython3",
   "version": "3.9.2"
  }
 },
 "nbformat": 4,
 "nbformat_minor": 5
}
