{
 "cells": [
  {
   "cell_type": "markdown",
   "id": "84829ed3-0d6e-445b-9e65-53e1f83033f8",
   "metadata": {},
   "source": [
    "# Buidling a dataset\n",
    "We want to track some broad metrics on search performance using real user data. \n",
    "\n",
    "Benchmarking the performance of search on a consistent set of search terms wil do blah blah blah."
   ]
  },
  {
   "cell_type": "code",
   "execution_count": null,
   "id": "c23ec983-0aad-4260-87f5-78293c888da0",
   "metadata": {},
   "outputs": [],
   "source": [
    "import os\n",
    "from elasticsearch import Elasticsearch"
   ]
  },
  {
   "cell_type": "code",
   "execution_count": null,
   "id": "fb141027-35b8-4117-a9c3-35c26265bc4f",
   "metadata": {},
   "outputs": [],
   "source": [
    "def secret(name):\n",
    "    \"\"\"vercel adds quotes around variables in the .env file, so we get rid of them here\"\"\"\n",
    "    return os.environ[name][1:-1]"
   ]
  },
  {
   "cell_type": "code",
   "execution_count": null,
   "id": "145287eb-85b9-491f-b847-1e3b1086e285",
   "metadata": {},
   "outputs": [],
   "source": [
    "es = Elasticsearch(\n",
    "    cloud_id=secret(\"ES_REPORTING_CLOUD_ID\"),\n",
    "    http_auth=(\n",
    "        secret(\"ES_REPORTING_USER\"), \n",
    "        secret(\"ES_REPORTING_PASSWORD\")\n",
    "    ),\n",
    ")"
   ]
  },
  {
   "cell_type": "code",
   "execution_count": null,
   "id": "417648f7-efa8-432a-b132-df8fc708b795",
   "metadata": {},
   "outputs": [],
   "source": [
    "resp = es.search(\n",
    "    index=\"conversion\"\n",
    ")"
   ]
  },
  {
   "cell_type": "code",
   "execution_count": null,
   "id": "049ebf2c-3475-4a3b-adcf-51c530471dee",
   "metadata": {},
   "outputs": [],
   "source": [
    "for hit in resp['hits'][\"hits\"]:\n",
    "    if \"query\" in hit[\"_source\"][\"page\"]:\n",
    "        if \"query\" in hit[\"_source\"][\"page\"][\"query\"]:\n",
    "            print(hit[\"_source\"][\"page\"][\"query\"][\"query\"])\n",
    "    else: print(\"\") \n"
   ]
  },
  {
   "cell_type": "code",
   "execution_count": null,
   "id": "c4433314-1519-4a2a-bfa5-9b1d5fb8e0aa",
   "metadata": {},
   "outputs": [],
   "source": []
  }
 ],
 "metadata": {
  "kernelspec": {
   "display_name": "Python 3",
   "language": "python",
   "name": "python3"
  },
  "language_info": {
   "codemirror_mode": {
    "name": "ipython",
    "version": 3
   },
   "file_extension": ".py",
   "mimetype": "text/x-python",
   "name": "python",
   "nbconvert_exporter": "python",
   "pygments_lexer": "ipython3",
   "version": "3.9.2"
  }
 },
 "nbformat": 4,
 "nbformat_minor": 5
}
